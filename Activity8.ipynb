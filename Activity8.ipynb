{
 "cells": [
  {
   "cell_type": "code",
   "execution_count": 13,
   "id": "e327647c-d632-4773-9ea4-ae723ae82012",
   "metadata": {},
   "outputs": [
    {
     "name": "stdout",
     "output_type": "stream",
     "text": [
      "[28, 23, 27, 22]\n"
     ]
    }
   ],
   "source": [
    "#In this sorting alogirthm we conisder the first element to be the sorted and the rest are considered to be the unsorted sublist.\n",
    "#In this method we will take the firt element in thd unsorted part and compare it with sorted part element.\n",
    "def sorting(my_nums):\n",
    "#This line defines a function named sorting that takes a list of numbers (my_nums) as input.\n",
    "     for i in range(1,len(my_nums)):\n",
    "         #This line starts a loop that iterates through the indices of the list starting from the second element (index 1) since the first\n",
    "         #element (index 0) is considered sorted initially.\n",
    "         \n",
    "         current_element = my_nums[i]\n",
    "         #This line selects the current element to be compared and possibly inserted into the sorted part.\n",
    "         pos = i\n",
    "         #This line initializes a variable pos to keep track of the position where the current element will be inserted.\n",
    "         \n",
    "         while current_element < my_nums[pos] and pos>0:\n",
    "             \"\"\"This line starts a loop that compares the current element with elements in the sorted part of the list, ensuring we're not comparing \n",
    "             beyond the start of the list.\"\"\"\n",
    "             \n",
    "             my_nums[pos] = my_nums[pos-1]\n",
    "             #This line shifts elements to the right to make space for the current element to be inserted into its correct position.\n",
    "             pos = pos-1\n",
    "             #This line decrements the position variable to continue comparing with elements in the sorted part of the list.\n",
    "             my_nums[pos] = current_element\n",
    "\n",
    "my_nums = [28,23,27,22]\n",
    "#his line initializes an unsorted list of numbers\n",
    "\n",
    "sorting(my_nums)\n",
    "#This line calls the sorting function to sort the list my_nums.\n",
    "print(my_nums)\n",
    "#This line prints the sorted list after the sorting function has been executed.\n",
    "    "
   ]
  },
  {
   "cell_type": "code",
   "execution_count": 11,
   "id": "1fdb4289-60ba-4321-a9ec-47541e9d6b7c",
   "metadata": {},
   "outputs": [
    {
     "name": "stdout",
     "output_type": "stream",
     "text": [
      "[8, 3, 7, 2]\n"
     ]
    }
   ],
   "source": [
    "def sorting(my_nums):\n",
    "#This line defines a function named sorting that takes a list of numbers (my_nums) as input.\n",
    "     for i in range(1,len(my_nums)):\n",
    "         #This line starts a loop that iterates through the indices of the list starting from the second element (index 1) since the first\n",
    "         #element (index 0) is considered sorted initially.\n",
    "         \n",
    "          current_element = my_nums[i]\n",
    "         #This line selects the current element to be compared and possibly inserted into the sorted part.\n",
    "          pos = i\n",
    "         #This line initializes a variable pos to keep track of the position where the current element will be inserted.\n",
    "         \n",
    "          while current_element < my_nums[pos] and pos>0:\n",
    "             \"\"\"This line starts a loop that compares the current element with elements in the sorted part of the list, ensuring we're not comparing \n",
    "             beyond the start of the list.\"\"\"\n",
    "             \n",
    "             my_nums[pos] = my_nums[pos-1]\n",
    "             #This line shifts elements to the right to make space for the current element to be inserted into its correct position.\n",
    "             pos = pos-1\n",
    "             #This line decrements the position variable to continue comparing with elements in the sorted part of the list.\n",
    "             my_nums[pos] = current_element\n",
    "\n",
    "my_nums = [8,3,7,2]\n",
    "#his line initializes an unsorted list of numbers\n",
    "\n",
    "sorting(my_nums)\n",
    "#This line calls the sorting function to sort the list my_nums.\n",
    "print(my_nums)\n",
    "#This line prints the sorted list after the sorting function has been executed.\n",
    "    "
   ]
  },
  {
   "cell_type": "code",
   "execution_count": 12,
   "id": "547198a8-0ca0-4427-a706-5b1aa740670e",
   "metadata": {},
   "outputs": [
    {
     "name": "stdout",
     "output_type": "stream",
     "text": [
      "[18, 13, 17, 12]\n"
     ]
    }
   ],
   "source": [
    "def sorting(my_nums):\n",
    "#This line defines a function named sorting that takes a list of numbers (my_nums) as input.\n",
    "     for i in range(1,len(my_nums)):\n",
    "         #This line starts a loop that iterates through the indices of the list starting from the second element (index 1) since the first\n",
    "         #element (index 0) is considered sorted initially.\n",
    "         \n",
    "         current_element = my_nums[i]\n",
    "         #This line selects the current element to be compared and possibly inserted into the sorted part.\n",
    "         pos = i\n",
    "         #This line initializes a variable pos to keep track of the position where the current element will be inserted.\n",
    "         \n",
    "         while current_element < my_nums[pos] and pos>0:\n",
    "             \"\"\"This line starts a loop that compares the current element with elements in the sorted part of the list, ensuring we're not comparing \n",
    "             beyond the start of the list.\"\"\"\n",
    "             \n",
    "             my_nums[pos] = my_nums[pos-1]\n",
    "             #This line shifts elements to the right to make space for the current element to be inserted into its correct position.\n",
    "             pos = pos-1\n",
    "             #This line decrements the position variable to continue comparing with elements in the sorted part of the list.\n",
    "             my_nums[pos] = current_element\n",
    "\n",
    "my_nums = [18,13,17,12]\n",
    "#his line initializes an unsorted list of numbers\n",
    "\n",
    "sorting(my_nums)\n",
    "#This line calls the sorting function to sort the list my_nums.\n",
    "print(my_nums)\n",
    "#This line prints the sorted list after the sorting function has been executed."
   ]
  },
  {
   "cell_type": "code",
   "execution_count": null,
   "id": "a827a4f8-4cf5-4dc4-b054-7face8d20784",
   "metadata": {},
   "outputs": [],
   "source": []
  }
 ],
 "metadata": {
  "kernelspec": {
   "display_name": "Python 3 (ipykernel)",
   "language": "python",
   "name": "python3"
  },
  "language_info": {
   "codemirror_mode": {
    "name": "ipython",
    "version": 3
   },
   "file_extension": ".py",
   "mimetype": "text/x-python",
   "name": "python",
   "nbconvert_exporter": "python",
   "pygments_lexer": "ipython3",
   "version": "3.12.2"
  }
 },
 "nbformat": 4,
 "nbformat_minor": 5
}
